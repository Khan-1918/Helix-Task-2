{
  "nbformat": 4,
  "nbformat_minor": 0,
  "metadata": {
    "colab": {
      "provenance": []
    },
    "kernelspec": {
      "name": "python3",
      "display_name": "Python 3"
    },
    "language_info": {
      "name": "python"
    }
  },
  "cells": [
    {
      "cell_type": "markdown",
      "source": [
        "# Mounted Google Drive"
      ],
      "metadata": {
        "id": "Z0PPZcJ_txqv"
      }
    },
    {
      "cell_type": "code",
      "execution_count": null,
      "metadata": {
        "colab": {
          "base_uri": "https://localhost:8080/"
        },
        "id": "v_3a6LtUgpxI",
        "outputId": "af9d6c89-cc27-43d8-ae6c-ef206658d73c"
      },
      "outputs": [
        {
          "output_type": "stream",
          "name": "stdout",
          "text": [
            "Mounted at /content/drive\n"
          ]
        }
      ],
      "source": [
        "from google.colab import drive\n",
        "drive.mount('/content/drive')"
      ]
    },
    {
      "cell_type": "markdown",
      "source": [
        "# Code; Reading Number of Images\n"
      ],
      "metadata": {
        "id": "c9miOosVtwTM"
      }
    },
    {
      "cell_type": "code",
      "source": [
        "import os\n",
        "import cv2  # or Pillow, Matplotlib\n",
        "\n",
        "# Path to the directory containing images\n",
        "image_dir = '/content/drive/MyDrive/Helix jpg bad Images'\n",
        "\n",
        "# Iterate through all files in the directory\n",
        "for filename in os.listdir(image_dir):\n",
        "    file_path = os.path.join(image_dir, filename)  # Full path to the image\n",
        "    if filename.endswith(('.jpg', '.jpeg', '.png')):  # Check for image file extensions\n",
        "        # Read the image\n",
        "        image = cv2.imread(file_path)\n",
        "        if image is not None:\n",
        "            print(f\"Processed: {filename}, Dimensions: {image.shape}\")\n",
        "        else:\n",
        "            print(f\"Failed to read: {filename}\")\n"
      ],
      "metadata": {
        "colab": {
          "base_uri": "https://localhost:8080/"
        },
        "id": "mKBSZXNgq4z8",
        "outputId": "d91c2772-a2b8-4867-d73d-9056524348ec"
      },
      "execution_count": null,
      "outputs": [
        {
          "output_type": "stream",
          "name": "stdout",
          "text": [
            "Processed: 05.jpg, Dimensions: (4032, 3024, 3)\n",
            "Processed: 07 434357cb6af5d1e4951ea5306ed9181731c330a9.jpg, Dimensions: (2048, 1536, 3)\n",
            "Processed: 06.jpg, Dimensions: (1008, 756, 3)\n",
            "Processed: 09 cc7d2c3c36bcc9696f1a732b1559ffffc1862f53.jpg, Dimensions: (2048, 1536, 3)\n",
            "Processed: 02.jpg, Dimensions: (4000, 3000, 3)\n",
            "Processed: 1005.jpg, Dimensions: (2048, 1536, 3)\n",
            "Processed: 1007.jpg, Dimensions: (2048, 1536, 3)\n",
            "Processed: 1004.jpg, Dimensions: (2048, 1536, 3)\n",
            "Processed: 09.jpg, Dimensions: (772, 579, 3)\n",
            "Processed: 10.jpg, Dimensions: (756, 1008, 3)\n",
            "Processed: 1006.jpg, Dimensions: (1792, 828, 3)\n",
            "Processed: 1002.jpg, Dimensions: (750, 1035, 3)\n",
            "Processed: 1035.jpg, Dimensions: (2048, 1536, 3)\n",
            "Processed: 1011.jpg, Dimensions: (2048, 1536, 3)\n",
            "Processed: 1044.jpg, Dimensions: (2048, 1536, 3)\n",
            "Processed: 1042.jpg, Dimensions: (1536, 2048, 3)\n",
            "Processed: 1033.jpg, Dimensions: (2048, 1536, 3)\n",
            "Processed: 1052.jpg, Dimensions: (1536, 2048, 3)\n",
            "Processed: 1049.jpg, Dimensions: (500, 690, 3)\n",
            "Processed: 1031.jpg, Dimensions: (2048, 1536, 3)\n",
            "Processed: 1032.jpg, Dimensions: (2048, 1536, 3)\n",
            "Processed: 1015.jpg, Dimensions: (2048, 1536, 3)\n",
            "Processed: 1034.jpg, Dimensions: (2048, 1536, 3)\n",
            "Processed: 1017.jpg, Dimensions: (2048, 1536, 3)\n",
            "Processed: 1008.jpg, Dimensions: (2048, 1536, 3)\n",
            "Processed: 1051.jpg, Dimensions: (2048, 1536, 3)\n",
            "Processed: 1012.jpg, Dimensions: (2048, 1536, 3)\n",
            "Processed: 1053.jpg, Dimensions: (2048, 1536, 3)\n",
            "Processed: 1018.jpg, Dimensions: (2048, 1536, 3)\n",
            "Processed: 1046.jpg, Dimensions: (2048, 1536, 3)\n"
          ]
        }
      ]
    },
    {
      "cell_type": "markdown",
      "source": [
        "# Code; converting Bad Images to Enhanced Images"
      ],
      "metadata": {
        "id": "-xjxNmSfuNri"
      }
    },
    {
      "cell_type": "code",
      "source": [
        "import os\n",
        "import cv2\n",
        "import numpy as np\n",
        "\n",
        "# Path to the directory containing images\n",
        "image_dir = '/content/drive/MyDrive/Helix jpg bad Images'\n",
        "\n",
        "# Output directory for enhanced images\n",
        "output_dir = '/content/drive/MyDrive/Enhanced 3_Images'\n",
        "if not os.path.exists(output_dir):\n",
        "    os.makedirs(output_dir)\n",
        "\n",
        "# Initialize counters for file types and processing\n",
        "jpg_count = 0\n",
        "jpeg_count = 0\n",
        "png_count = 0\n",
        "enhanced_count = 0  # Count of successfully enhanced images\n",
        "failed_count = 0    # Count of failed images\n",
        "\n",
        "def enhance_image(image):\n",
        "    \"\"\"Enhance a single image: resize, denoise, sharpen, and adjust brightness/contrast.\"\"\"\n",
        "    # Step 1: Resize if the image is too large\n",
        "    height, width = image.shape[:2]\n",
        "    max_dimension = 2000\n",
        "    if max(height, width) > max_dimension:\n",
        "        scale = max_dimension / max(height, width)\n",
        "        image = cv2.resize(image, (int(width * scale), int(height * scale)))\n",
        "\n",
        "    # Step 2: Denoise the image\n",
        "    denoised = cv2.fastNlMeansDenoisingColored(image, None, 10, 10, 7, 21)\n",
        "\n",
        "    # Step 3: Sharpen the image\n",
        "    kernel = np.array([[0, -1, 0],\n",
        "                       [-1, 5, -1],\n",
        "                       [0, -1, 0]])\n",
        "    sharpened = cv2.filter2D(denoised, -1, kernel)\n",
        "\n",
        "    # Step 4: Adjust brightness and contrast\n",
        "    alpha = 1.2  # Contrast control (1.0-3.0)\n",
        "    beta = 20    # Brightness control (0-100)\n",
        "    enhanced = cv2.convertScaleAbs(sharpened, alpha=alpha, beta=beta)\n",
        "\n",
        "    return enhanced\n",
        "\n",
        "# Iterate through all files in the directory\n",
        "for filename in os.listdir(image_dir):\n",
        "    file_path = os.path.join(image_dir, filename)  # Full path to the image\n",
        "\n",
        "    # Count file types\n",
        "    if filename.lower().endswith('.jpg'):\n",
        "        jpg_count += 1\n",
        "    elif filename.lower().endswith('.jpeg'):\n",
        "        jpeg_count += 1\n",
        "    elif filename.lower().endswith('.png'):\n",
        "        png_count += 1\n",
        "\n",
        "    if filename.lower().endswith(('.jpg', '.jpeg', '.png')):\n",
        "        # Read the image\n",
        "        image = cv2.imread(file_path)\n",
        "        if image is not None:\n",
        "            try:\n",
        "                # Enhance the image\n",
        "                enhanced_image = enhance_image(image)\n",
        "                if enhanced_image is not None:\n",
        "                    # Save the enhanced image\n",
        "                    output_path = os.path.join(output_dir, filename)\n",
        "                    cv2.imwrite(output_path, enhanced_image)\n",
        "                    enhanced_count += 1  # Increment the count of enhanced images\n",
        "                    print(f\"Enhanced and saved: {filename}, Original Dimensions: {image.shape}, Enhanced Dimensions: {enhanced_image.shape}\")\n",
        "                else:\n",
        "                    print(f\"Enhancement failed: {filename}\")\n",
        "                    failed_count += 1\n",
        "            except Exception as e:\n",
        "                print(f\"Failed to enhance: {filename}, Error: {e}\")\n",
        "                failed_count += 1\n",
        "        else:\n",
        "            print(f\"Failed to read: {filename}\")\n",
        "            failed_count += 1\n",
        "\n",
        "# Print the counts for each file type and processing\n",
        "print(\"\\nFile type counts:\")\n",
        "print(f\"Number of .jpg files: {jpg_count}\")\n",
        "print(f\"Number of .jpeg files: {jpeg_count}\")\n",
        "print(f\"Number of .png files: {png_count}\")\n",
        "\n",
        "print(\"\\nProcessing results:\")\n",
        "print(f\"Number of enhanced images: {enhanced_count}\")\n",
        "print(f\"Number of failed images: {failed_count}\")\n",
        "print(f\"Enhanced images saved in: {output_dir}\")\n"
      ],
      "metadata": {
        "colab": {
          "base_uri": "https://localhost:8080/"
        },
        "id": "oZWm0u8ZrDh5",
        "outputId": "c0c9fc96-b818-4c24-9b0f-94bab96ba97b"
      },
      "execution_count": null,
      "outputs": [
        {
          "output_type": "stream",
          "name": "stdout",
          "text": [
            "Enhanced and saved: 05.jpg, Original Dimensions: (4032, 3024, 3), Enhanced Dimensions: (2000, 1500, 3)\n",
            "Enhanced and saved: 07 434357cb6af5d1e4951ea5306ed9181731c330a9.jpg, Original Dimensions: (2048, 1536, 3), Enhanced Dimensions: (2000, 1500, 3)\n",
            "Enhanced and saved: 06.jpg, Original Dimensions: (1008, 756, 3), Enhanced Dimensions: (1008, 756, 3)\n",
            "Enhanced and saved: 09 cc7d2c3c36bcc9696f1a732b1559ffffc1862f53.jpg, Original Dimensions: (2048, 1536, 3), Enhanced Dimensions: (2000, 1500, 3)\n",
            "Enhanced and saved: 02.jpg, Original Dimensions: (4000, 3000, 3), Enhanced Dimensions: (2000, 1500, 3)\n",
            "Enhanced and saved: 1005.jpg, Original Dimensions: (2048, 1536, 3), Enhanced Dimensions: (2000, 1500, 3)\n",
            "Enhanced and saved: 1007.jpg, Original Dimensions: (2048, 1536, 3), Enhanced Dimensions: (2000, 1500, 3)\n",
            "Enhanced and saved: 1004.jpg, Original Dimensions: (2048, 1536, 3), Enhanced Dimensions: (2000, 1500, 3)\n",
            "Enhanced and saved: 09.jpg, Original Dimensions: (772, 579, 3), Enhanced Dimensions: (772, 579, 3)\n",
            "Enhanced and saved: 10.jpg, Original Dimensions: (756, 1008, 3), Enhanced Dimensions: (756, 1008, 3)\n",
            "Enhanced and saved: 1006.jpg, Original Dimensions: (1792, 828, 3), Enhanced Dimensions: (1792, 828, 3)\n",
            "Enhanced and saved: 1002.jpg, Original Dimensions: (750, 1035, 3), Enhanced Dimensions: (750, 1035, 3)\n",
            "Enhanced and saved: 1035.jpg, Original Dimensions: (2048, 1536, 3), Enhanced Dimensions: (2000, 1500, 3)\n",
            "Enhanced and saved: 1011.jpg, Original Dimensions: (2048, 1536, 3), Enhanced Dimensions: (2000, 1500, 3)\n",
            "Enhanced and saved: 1044.jpg, Original Dimensions: (2048, 1536, 3), Enhanced Dimensions: (2000, 1500, 3)\n",
            "Enhanced and saved: 1042.jpg, Original Dimensions: (1536, 2048, 3), Enhanced Dimensions: (1500, 2000, 3)\n",
            "Enhanced and saved: 1033.jpg, Original Dimensions: (2048, 1536, 3), Enhanced Dimensions: (2000, 1500, 3)\n",
            "Enhanced and saved: 1052.jpg, Original Dimensions: (1536, 2048, 3), Enhanced Dimensions: (1500, 2000, 3)\n",
            "Enhanced and saved: 1049.jpg, Original Dimensions: (500, 690, 3), Enhanced Dimensions: (500, 690, 3)\n",
            "Enhanced and saved: 1031.jpg, Original Dimensions: (2048, 1536, 3), Enhanced Dimensions: (2000, 1500, 3)\n",
            "Enhanced and saved: 1032.jpg, Original Dimensions: (2048, 1536, 3), Enhanced Dimensions: (2000, 1500, 3)\n",
            "Enhanced and saved: 1015.jpg, Original Dimensions: (2048, 1536, 3), Enhanced Dimensions: (2000, 1500, 3)\n",
            "Enhanced and saved: 1034.jpg, Original Dimensions: (2048, 1536, 3), Enhanced Dimensions: (2000, 1500, 3)\n",
            "Enhanced and saved: 1017.jpg, Original Dimensions: (2048, 1536, 3), Enhanced Dimensions: (2000, 1500, 3)\n",
            "Enhanced and saved: 1008.jpg, Original Dimensions: (2048, 1536, 3), Enhanced Dimensions: (2000, 1500, 3)\n",
            "Enhanced and saved: 1051.jpg, Original Dimensions: (2048, 1536, 3), Enhanced Dimensions: (2000, 1500, 3)\n",
            "Enhanced and saved: 1012.jpg, Original Dimensions: (2048, 1536, 3), Enhanced Dimensions: (2000, 1500, 3)\n",
            "Enhanced and saved: 1053.jpg, Original Dimensions: (2048, 1536, 3), Enhanced Dimensions: (2000, 1500, 3)\n",
            "Enhanced and saved: 1018.jpg, Original Dimensions: (2048, 1536, 3), Enhanced Dimensions: (2000, 1500, 3)\n",
            "Enhanced and saved: 1046.jpg, Original Dimensions: (2048, 1536, 3), Enhanced Dimensions: (2000, 1500, 3)\n",
            "\n",
            "File type counts:\n",
            "Number of .jpg files: 30\n",
            "Number of .jpeg files: 0\n",
            "Number of .png files: 0\n",
            "\n",
            "Processing results:\n",
            "Number of enhanced images: 30\n",
            "Number of failed images: 0\n",
            "Enhanced images saved in: /content/drive/MyDrive/Enhanced 3_Images\n"
          ]
        }
      ]
    },
    {
      "cell_type": "markdown",
      "source": [
        "\n",
        "# Code; converting Enhanced Images to Good Images(GRAY Conversion)\n",
        "\n",
        "\n",
        "\n",
        "\n",
        "\n"
      ],
      "metadata": {
        "id": "08MqDFHpunFi"
      }
    },
    {
      "cell_type": "code",
      "source": [
        "import os\n",
        "import cv2\n",
        "\n",
        "# Path to the directory containing enhanced images\n",
        "enhanced_dir = '/content/drive/MyDrive/Enhanced 3_Images'\n",
        "\n",
        "# Output directory for \"good\" images\n",
        "good_images_dir = '/content/drive/MyDrive/Good_Images'\n",
        "if not os.path.exists(good_images_dir):\n",
        "    os.makedirs(good_images_dir)\n",
        "\n",
        "# Initialize counters\n",
        "turned_good_count = 0\n",
        "remained_bad_count = 0\n",
        "\n",
        "# Define a threshold for \"good\" images\n",
        "GOOD_DIMENSION_THRESHOLD = 1000  # Minimum dimension (width or height) for \"good\" images\n",
        "GOOD_BRIGHTNESS_THRESHOLD = 50   # Mean brightness value threshold\n",
        "\n",
        "def is_image_good(image):\n",
        "    \"\"\"\n",
        "    Determine if an image can be classified as 'good' based on dimensions and brightness.\n",
        "    Returns True if the image is 'good', False otherwise.\n",
        "    \"\"\"\n",
        "    # dimensions\n",
        "    height, width = image.shape[:2]\n",
        "    if height < GOOD_DIMENSION_THRESHOLD or width < GOOD_DIMENSION_THRESHOLD:\n",
        "        return False\n",
        "\n",
        "    # brightness (mean pixel intensity)\n",
        "    mean_brightness = cv2.mean(cv2.cvtColor(image, cv2.COLOR_BGR2GRAY))[0]\n",
        "    if mean_brightness < GOOD_BRIGHTNESS_THRESHOLD:\n",
        "        return False\n",
        "\n",
        "    return True\n",
        "\n",
        "# Iterate through all files in the enhanced directory\n",
        "for filename in os.listdir(enhanced_dir):\n",
        "    file_path = os.path.join(enhanced_dir, filename)\n",
        "\n",
        "    if filename.lower().endswith(('.jpg')):\n",
        "        # Read the enhanced image\n",
        "        image = cv2.imread(file_path)\n",
        "\n",
        "        if image is not None:\n",
        "            # Check if the image is 'good'\n",
        "            if is_image_good(image):\n",
        "                turned_good_count += 1\n",
        "\n",
        "                # Save the good image\n",
        "                output_path = os.path.join(good_images_dir, filename)\n",
        "                cv2.imwrite(output_path, image)\n",
        "                print(f\"Turned good and saved: {filename}, Dimensions: {image.shape[:2]}\")\n",
        "            else:\n",
        "                remained_bad_count += 1\n",
        "                print(f\"Remained bad: {filename}, Dimensions: {image.shape[:2]}\")\n",
        "        else:\n",
        "            print(f\"Failed to read: {filename}\")\n",
        "\n",
        "# Print the summary of results\n",
        "print(\"\\nProcessing results:\")\n",
        "print(f\"Number of images that turned good: {turned_good_count}\")\n",
        "print(f\"Number of images that remained bad: {remained_bad_count}\")\n",
        "print(f\"Good images saved in: {good_images_dir}\")\n"
      ],
      "metadata": {
        "colab": {
          "base_uri": "https://localhost:8080/"
        },
        "id": "NOQ_DkLpsb1H",
        "outputId": "cd5f6c02-f260-4421-8f0b-5724a8730ee3"
      },
      "execution_count": null,
      "outputs": [
        {
          "output_type": "stream",
          "name": "stdout",
          "text": [
            "Turned good and saved: 05.jpg, Dimensions: (2000, 1500)\n",
            "Turned good and saved: 07 434357cb6af5d1e4951ea5306ed9181731c330a9.jpg, Dimensions: (2000, 1500)\n",
            "Remained bad: 06.jpg, Dimensions: (1008, 756)\n",
            "Turned good and saved: 09 cc7d2c3c36bcc9696f1a732b1559ffffc1862f53.jpg, Dimensions: (2000, 1500)\n",
            "Turned good and saved: 02.jpg, Dimensions: (2000, 1500)\n",
            "Turned good and saved: 1005.jpg, Dimensions: (2000, 1500)\n",
            "Turned good and saved: 1007.jpg, Dimensions: (2000, 1500)\n",
            "Turned good and saved: 1004.jpg, Dimensions: (2000, 1500)\n",
            "Remained bad: 09.jpg, Dimensions: (772, 579)\n",
            "Remained bad: 10.jpg, Dimensions: (756, 1008)\n",
            "Remained bad: 1006.jpg, Dimensions: (1792, 828)\n",
            "Remained bad: 1002.jpg, Dimensions: (750, 1035)\n",
            "Turned good and saved: 1035.jpg, Dimensions: (2000, 1500)\n",
            "Turned good and saved: 1011.jpg, Dimensions: (2000, 1500)\n",
            "Turned good and saved: 1044.jpg, Dimensions: (2000, 1500)\n",
            "Turned good and saved: 1042.jpg, Dimensions: (1500, 2000)\n",
            "Turned good and saved: 1033.jpg, Dimensions: (2000, 1500)\n",
            "Turned good and saved: 1052.jpg, Dimensions: (1500, 2000)\n",
            "Remained bad: 1049.jpg, Dimensions: (500, 690)\n",
            "Turned good and saved: 1031.jpg, Dimensions: (2000, 1500)\n",
            "Turned good and saved: 1032.jpg, Dimensions: (2000, 1500)\n",
            "Turned good and saved: 1015.jpg, Dimensions: (2000, 1500)\n",
            "Turned good and saved: 1034.jpg, Dimensions: (2000, 1500)\n",
            "Turned good and saved: 1017.jpg, Dimensions: (2000, 1500)\n",
            "Turned good and saved: 1008.jpg, Dimensions: (2000, 1500)\n",
            "Turned good and saved: 1051.jpg, Dimensions: (2000, 1500)\n",
            "Turned good and saved: 1012.jpg, Dimensions: (2000, 1500)\n",
            "Turned good and saved: 1053.jpg, Dimensions: (2000, 1500)\n",
            "Turned good and saved: 1018.jpg, Dimensions: (2000, 1500)\n",
            "Turned good and saved: 1046.jpg, Dimensions: (2000, 1500)\n",
            "\n",
            "Processing results:\n",
            "Number of images that turned good: 24\n",
            "Number of images that remained bad: 6\n",
            "Good images saved in: /content/drive/MyDrive/Good_Images\n"
          ]
        }
      ]
    },
    {
      "cell_type": "markdown",
      "source": [
        "# Code; converting Enhanced Images to Good Images(RGB)"
      ],
      "metadata": {
        "id": "bU4sZY6nIwUW"
      }
    },
    {
      "cell_type": "code",
      "source": [
        "import os\n",
        "import cv2\n",
        "\n",
        "# Path to the directory containing enhanced images\n",
        "enhanced_dir = '/content/drive/MyDrive/Enhanced 3_Images'\n",
        "\n",
        "# Output directory for \"good\" images\n",
        "good_images_dir = '/content/drive/MyDrive/Good GBR_Images'\n",
        "if not os.path.exists(good_images_dir):\n",
        "    os.makedirs(good_images_dir)\n",
        "\n",
        "# Initialize counters\n",
        "turned_good_count = 0\n",
        "remained_bad_count = 0\n",
        "\n",
        "# Define thresholds for \"good\" images\n",
        "GOOD_DIMENSION_THRESHOLD = 1000  # Minimum dimension (width or height) for \"good\" images\n",
        "GOOD_BRIGHTNESS_THRESHOLD = 50   # Mean brightness value threshold\n",
        "\n",
        "def is_image_good(image):\n",
        "    \"\"\"\n",
        "    Determine if an image can be classified as 'good' based on dimensions and brightness.\n",
        "    Returns True if the image is 'good', False otherwise.\n",
        "    \"\"\"\n",
        "    # Check dimensions\n",
        "    height, width = image.shape[:2]\n",
        "    if height < GOOD_DIMENSION_THRESHOLD or width < GOOD_DIMENSION_THRESHOLD:\n",
        "        return False\n",
        "\n",
        "    # Calculate brightness using the average of BGR channels\n",
        "    mean_brightness = cv2.mean(image)[:3]  # Get the mean for B, G, R channels\n",
        "    avg_brightness = sum(mean_brightness) / 3  # Compute the overall average brightness\n",
        "    if avg_brightness < GOOD_BRIGHTNESS_THRESHOLD:\n",
        "        return False\n",
        "\n",
        "    return True\n",
        "\n",
        "# Iterate through all files in the enhanced directory\n",
        "for filename in os.listdir(enhanced_dir):\n",
        "    file_path = os.path.join(enhanced_dir, filename)\n",
        "\n",
        "    if filename.lower().endswith(('.jpg')):\n",
        "        # Read the enhanced image\n",
        "        image = cv2.imread(file_path)\n",
        "\n",
        "        if image is not None:\n",
        "            # Check if the image is 'good'\n",
        "            if is_image_good(image):\n",
        "                turned_good_count += 1\n",
        "\n",
        "                # Save the good image\n",
        "                output_path = os.path.join(good_images_dir, filename)\n",
        "                cv2.imwrite(output_path, image)\n",
        "                print(f\"Turned good and saved: {filename}, Dimensions: {image.shape[:2]}\")\n",
        "            else:\n",
        "                remained_bad_count += 1\n",
        "                print(f\"Remained bad: {filename}, Dimensions: {image.shape[:2]}\")\n",
        "        else:\n",
        "            print(f\"Failed to read: {filename}\")\n",
        "\n",
        "# Print the summary of results\n",
        "print(\"\\nProcessing results:\")\n",
        "print(f\"Number of images that turned good: {turned_good_count}\")\n",
        "print(f\"Number of images that remained bad: {remained_bad_count}\")\n",
        "print(f\"Good images saved in: {good_images_dir}\")\n"
      ],
      "metadata": {
        "colab": {
          "base_uri": "https://localhost:8080/"
        },
        "id": "HvXbEFSaIL0M",
        "outputId": "6e929dbf-bfe1-4989-e0ae-81b69d7f1a98"
      },
      "execution_count": null,
      "outputs": [
        {
          "output_type": "stream",
          "name": "stdout",
          "text": [
            "Turned good and saved: 05.jpg, Dimensions: (2000, 1500)\n",
            "Turned good and saved: 07 434357cb6af5d1e4951ea5306ed9181731c330a9.jpg, Dimensions: (2000, 1500)\n",
            "Remained bad: 06.jpg, Dimensions: (1008, 756)\n",
            "Turned good and saved: 09 cc7d2c3c36bcc9696f1a732b1559ffffc1862f53.jpg, Dimensions: (2000, 1500)\n",
            "Turned good and saved: 02.jpg, Dimensions: (2000, 1500)\n",
            "Turned good and saved: 1005.jpg, Dimensions: (2000, 1500)\n",
            "Turned good and saved: 1007.jpg, Dimensions: (2000, 1500)\n",
            "Turned good and saved: 1004.jpg, Dimensions: (2000, 1500)\n",
            "Remained bad: 09.jpg, Dimensions: (772, 579)\n",
            "Remained bad: 10.jpg, Dimensions: (756, 1008)\n",
            "Remained bad: 1006.jpg, Dimensions: (1792, 828)\n",
            "Remained bad: 1002.jpg, Dimensions: (750, 1035)\n",
            "Turned good and saved: 1035.jpg, Dimensions: (2000, 1500)\n",
            "Turned good and saved: 1011.jpg, Dimensions: (2000, 1500)\n",
            "Turned good and saved: 1044.jpg, Dimensions: (2000, 1500)\n",
            "Turned good and saved: 1042.jpg, Dimensions: (1500, 2000)\n",
            "Turned good and saved: 1033.jpg, Dimensions: (2000, 1500)\n",
            "Turned good and saved: 1052.jpg, Dimensions: (1500, 2000)\n",
            "Remained bad: 1049.jpg, Dimensions: (500, 690)\n",
            "Turned good and saved: 1031.jpg, Dimensions: (2000, 1500)\n",
            "Turned good and saved: 1032.jpg, Dimensions: (2000, 1500)\n",
            "Turned good and saved: 1015.jpg, Dimensions: (2000, 1500)\n",
            "Turned good and saved: 1034.jpg, Dimensions: (2000, 1500)\n",
            "Turned good and saved: 1017.jpg, Dimensions: (2000, 1500)\n",
            "Turned good and saved: 1008.jpg, Dimensions: (2000, 1500)\n",
            "Turned good and saved: 1051.jpg, Dimensions: (2000, 1500)\n",
            "Turned good and saved: 1012.jpg, Dimensions: (2000, 1500)\n",
            "Turned good and saved: 1053.jpg, Dimensions: (2000, 1500)\n",
            "Turned good and saved: 1018.jpg, Dimensions: (2000, 1500)\n",
            "Turned good and saved: 1046.jpg, Dimensions: (2000, 1500)\n",
            "\n",
            "Processing results:\n",
            "Number of images that turned good: 24\n",
            "Number of images that remained bad: 6\n",
            "Good images saved in: /content/drive/MyDrive/Good GBR_Images\n"
          ]
        }
      ]
    }
  ]
}